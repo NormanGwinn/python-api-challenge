{
 "cells": [
  {
   "cell_type": "markdown",
   "metadata": {},
   "source": [
    "# WeatherPy\n",
    "----\n",
    "\n",
    "#### Note\n",
    "* Instructions have been included for each segment. You do not have to follow them exactly, but they are included to help you think through the steps."
   ]
  },
  {
   "cell_type": "code",
   "execution_count": 76,
   "metadata": {
    "scrolled": true
   },
   "outputs": [],
   "source": [
    "# Dependencies and Setup\n",
    "import matplotlib.pyplot as plt\n",
    "import pandas as pd\n",
    "import numpy as np\n",
    "import requests\n",
    "import sys\n",
    "import time\n",
    "from scipy.stats import linregress\n",
    "\n",
    "# Import API key\n",
    "from api_keys import weather_api_key\n",
    "\n",
    "# Incorporated citipy to determine nearest city based on latitude and longitude\n",
    "from citipy import citipy\n",
    "\n",
    "# Output File (CSV)\n",
    "output_data_file = \"output_data/cities.csv\"\n",
    "\n",
    "# Range of latitudes and longitudes\n",
    "lat_range = (-90, 90)\n",
    "lng_range = (-180, 180)"
   ]
  },
  {
   "cell_type": "markdown",
   "metadata": {},
   "source": [
    "## Generate Cities List"
   ]
  },
  {
   "cell_type": "code",
   "execution_count": 84,
   "metadata": {},
   "outputs": [],
   "source": [
    "# This list of cities is randomly distributed by latitude and longitude\n",
    "# To generate:\n",
    "#     Generate a list of random locations, by latitude and longitude\n",
    "#     Find the city nearest each random location\n",
    "# Since it is possible for random locations to be nearest the same city,\n",
    "# especially in the oceanic and polar regions, generate a large number\n",
    "# of random locations; large enough to generate 500+ random cities.\n",
    "SAMPLE_SIZE = 1500\n",
    "\n",
    "# Create a set of random lat and lng combinations\n",
    "lats = np.random.uniform(low=-90.000, high=90.000, size=SAMPLE_SIZE)\n",
    "lngs = np.random.uniform(low=-180.000, high=180.000, size=SAMPLE_SIZE)\n",
    "\n",
    "# Allocate space for the city and country names of the random cities (faster than append)\n",
    "city_names = [None]*SAMPLE_SIZE\n",
    "country_codes = [None]*SAMPLE_SIZE\n",
    "\n",
    "# Identify nearest city for each lat, lng combination\n",
    "for iRow in range(SAMPLE_SIZE):\n",
    "    #print(iRow)\n",
    "    city = citipy.nearest_city(lats[iRow], lngs[iRow])\n",
    "    city_names[iRow] = city.city_name\n",
    "    country_codes[iRow] = city.country_code\n",
    "\n",
    "# Create a DataFrame of the random locations, and drop duplicates\n",
    "random_cities = pd.DataFrame({\"city_name\" : city_names, \"country_code\" : country_codes}).drop_duplicates(ignore_index=True)"
   ]
  },
  {
   "cell_type": "code",
   "execution_count": 85,
   "metadata": {},
   "outputs": [],
   "source": [
    "ow_cities = pd.read_json('city.list.json')[[\"id\", \"name\", \"country\"]]\n",
    "ow_cities[\"name\"] = ow_cities[\"name\"].str.lower()\n",
    "ow_cities[\"country\"] = ow_cities[\"country\"].str.lower()"
   ]
  },
  {
   "cell_type": "code",
   "execution_count": 88,
   "metadata": {},
   "outputs": [
    {
     "data": {
      "text/html": [
       "<div>\n",
       "<style scoped>\n",
       "    .dataframe tbody tr th:only-of-type {\n",
       "        vertical-align: middle;\n",
       "    }\n",
       "\n",
       "    .dataframe tbody tr th {\n",
       "        vertical-align: top;\n",
       "    }\n",
       "\n",
       "    .dataframe thead th {\n",
       "        text-align: right;\n",
       "    }\n",
       "</style>\n",
       "<table border=\"1\" class=\"dataframe\">\n",
       "  <thead>\n",
       "    <tr style=\"text-align: right;\">\n",
       "      <th></th>\n",
       "      <th>name</th>\n",
       "      <th>country</th>\n",
       "      <th>id</th>\n",
       "    </tr>\n",
       "  </thead>\n",
       "  <tbody>\n",
       "    <tr>\n",
       "      <th>0</th>\n",
       "      <td>aasiaat</td>\n",
       "      <td>gl</td>\n",
       "      <td>3424901</td>\n",
       "    </tr>\n",
       "    <tr>\n",
       "      <th>1</th>\n",
       "      <td>adrar</td>\n",
       "      <td>dz</td>\n",
       "      <td>2508813</td>\n",
       "    </tr>\n",
       "    <tr>\n",
       "      <th>2</th>\n",
       "      <td>agadir</td>\n",
       "      <td>ma</td>\n",
       "      <td>2561668</td>\n",
       "    </tr>\n",
       "    <tr>\n",
       "      <th>3</th>\n",
       "      <td>aguimes</td>\n",
       "      <td>es</td>\n",
       "      <td>2522325</td>\n",
       "    </tr>\n",
       "    <tr>\n",
       "      <th>4</th>\n",
       "      <td>aklavik</td>\n",
       "      <td>ca</td>\n",
       "      <td>5882953</td>\n",
       "    </tr>\n",
       "    <tr>\n",
       "      <th>...</th>\n",
       "      <td>...</td>\n",
       "      <td>...</td>\n",
       "      <td>...</td>\n",
       "    </tr>\n",
       "    <tr>\n",
       "      <th>501</th>\n",
       "      <td>zamora</td>\n",
       "      <td>ec</td>\n",
       "      <td>3649959</td>\n",
       "    </tr>\n",
       "    <tr>\n",
       "      <th>502</th>\n",
       "      <td>zhigansk</td>\n",
       "      <td>ru</td>\n",
       "      <td>2012530</td>\n",
       "    </tr>\n",
       "    <tr>\n",
       "      <th>503</th>\n",
       "      <td>ziro</td>\n",
       "      <td>in</td>\n",
       "      <td>1252668</td>\n",
       "    </tr>\n",
       "    <tr>\n",
       "      <th>504</th>\n",
       "      <td>zwedru</td>\n",
       "      <td>lr</td>\n",
       "      <td>2272491</td>\n",
       "    </tr>\n",
       "    <tr>\n",
       "      <th>505</th>\n",
       "      <td>zyryanka</td>\n",
       "      <td>ru</td>\n",
       "      <td>2119283</td>\n",
       "    </tr>\n",
       "  </tbody>\n",
       "</table>\n",
       "<p>506 rows × 3 columns</p>\n",
       "</div>"
      ],
      "text/plain": [
       "         name country       id\n",
       "0     aasiaat      gl  3424901\n",
       "1       adrar      dz  2508813\n",
       "2      agadir      ma  2561668\n",
       "3     aguimes      es  2522325\n",
       "4     aklavik      ca  5882953\n",
       "..        ...     ...      ...\n",
       "501    zamora      ec  3649959\n",
       "502  zhigansk      ru  2012530\n",
       "503      ziro      in  1252668\n",
       "504    zwedru      lr  2272491\n",
       "505  zyryanka      ru  2119283\n",
       "\n",
       "[506 rows x 3 columns]"
      ]
     },
     "execution_count": 88,
     "metadata": {},
     "output_type": "execute_result"
    }
   ],
   "source": [
    "# For efficiency, use the Open Weather Group API\n",
    "\n",
    "# The Group API requires location IDs.  \n",
    "# At http://bulk.openweathermap.org/sample/, Open Weather provides a JSON list of cities and IDs\n",
    "# Read the city list into a DataFrame\n",
    "ow_cities = pd.read_json('city.list.json')[[\"id\", \"name\", \"country\"]]\n",
    "\n",
    "# The citipy module provided lowercase city and country names.  Change this DataFrame to match.\n",
    "ow_cities[\"name\"] = ow_cities[\"name\"].str.lower()\n",
    "ow_cities[\"country\"] = ow_cities[\"country\"].str.lower()\n",
    "\n",
    "\n",
    "temp = random_cities.merge(ow_cities, left_on=(\"city_name\",\"country_code\"), right_on=(\"name\",\"country\"))\n",
    "cities_with_id = pd.pivot_table(temp, values=\"id\", index=['name', 'country'], aggfunc=\"min\").reset_index()\n",
    "cities_with_id"
   ]
  },
  {
   "cell_type": "code",
   "execution_count": 184,
   "metadata": {},
   "outputs": [],
   "source": [
    "# The Group API handles up to twenty city IDs simultaneously\n",
    "MAX_GROUP_SIZE = 20\n",
    "\n",
    "city_ids = cities_with_id[\"id\"].astype(str)\n",
    "city_ids.size\n",
    "\n",
    "result_list = list()\n",
    "for i in range(0,city_ids.size,20):\n",
    "    ids = \",\".join(city_ids[i:min(i+MAX_GROUP_SIZE,city_ids.size)])\n",
    "    #print (f\"select indexes from {i} to {min(i+20,506)}\")\n",
    "    #print(ids)\n",
    "    url = f\"http://api.openweathermap.org/data/2.5/group?id={ids}&units=imperial&appid={weather_api_key}\"\n",
    "    result_list += requests.get(url).json()['list']   "
   ]
  },
  {
   "cell_type": "markdown",
   "metadata": {},
   "source": [
    "### Convert Raw Data to DataFrame\n",
    "* Export the city data into a .csv.\n",
    "* Display the DataFrame"
   ]
  },
  {
   "cell_type": "code",
   "execution_count": 185,
   "metadata": {},
   "outputs": [],
   "source": [
    "city_weather = pd.json_normalize(result_list) \\\n",
    "    [[\"id\",\"name\",\"sys.country\",\"coord.lat\",\"coord.lon\",\"dt\",\"main.temp_max\",\"wind.speed\",\"clouds.all\",\"main.humidity\"]] \\\n",
    "    .rename(columns={\"id\":\"City_ID\",\"name\":\"City\",\"sys.country\":\"Country\",\"coord.lon\":\"Lng\",\"coord.lat\":\"Lat\",\"dt\":\"Date\",\n",
    "             \"main.temp_max\":\"Max_Temp\",\"wind.speed\":\"Wind_Speed\",\"clouds.all\":\"Cloudiness\",\"main.humidity\":\"Humidity\"}\n",
    "    )\n",
    "\n",
    "city_weather.to_csv(output_data_file, index=False)"
   ]
  },
  {
   "cell_type": "code",
   "execution_count": 186,
   "metadata": {},
   "outputs": [
    {
     "data": {
      "text/plain": [
       "Index(['City_ID', 'City', 'Country', 'Lat', 'Lng', 'Date', 'Max_Temp',\n",
       "       'Wind_Speed', 'Cloudiness', 'Humidity'],\n",
       "      dtype='object')"
      ]
     },
     "execution_count": 186,
     "metadata": {},
     "output_type": "execute_result"
    }
   ],
   "source": [
    "city_weather.columns"
   ]
  },
  {
   "cell_type": "markdown",
   "metadata": {},
   "source": [
    "### Plotting the Data\n",
    "* Use proper labeling of the plots using plot titles (including date of analysis) and axes labels.\n",
    "* Save the plotted figures as .pngs."
   ]
  },
  {
   "cell_type": "code",
   "execution_count": 196,
   "metadata": {},
   "outputs": [],
   "source": [
    "def plot_metric_against_latitude(figure_number, df, y_column, y_label, title_label):\n",
    "    fig = plt.figure(figure_number)\n",
    "    weather_date = time.strftime(\"%d %b %Y\", time.localtime(df[\"Date\"][0]))\n",
    "    plt.scatter(x=df[\"Lat\"],y=df[y_column])\n",
    "    plt.grid()\n",
    "    plt.xlabel(\"Latitude\")\n",
    "    plt.ylabel(y_label)\n",
    "    plt.title(f\"{title_label} v. Latitude ({weather_date})\")\n",
    "    plt.savefig(f\"output_data/Figure{figure_number}.png\")\n",
    "    return fig"
   ]
  },
  {
   "cell_type": "markdown",
   "metadata": {},
   "source": [
    "#### Latitude vs. Temperature Plot"
   ]
  },
  {
   "cell_type": "code",
   "execution_count": 197,
   "metadata": {
    "scrolled": true
   },
   "outputs": [
    {
     "data": {
      "image/png": "[encoded data removed]",
      "text/plain": [
       "<Figure size 432x288 with 1 Axes>"
      ]
     },
     "metadata": {
      "needs_background": "light"
     },
     "output_type": "display_data"
    }
   ],
   "source": [
    "fig = plot_metric_against_latitude(1, city_weather, \"Max_Temp\", \"Temperature (Farenheit)\", \"Maximum Temperature\")"
   ]
  },
  {
   "cell_type": "code",
   "execution_count": 199,
   "metadata": {},
   "outputs": [],
   "source": [
    "plt.close(fig)"
   ]
  },
  {
   "cell_type": "markdown",
   "metadata": {},
   "source": [
    "#### Latitude vs. Humidity Plot"
   ]
  },
  {
   "cell_type": "code",
   "execution_count": 200,
   "metadata": {},
   "outputs": [
    {
     "data": {
      "image/png": "[encoded data removed]",
      "text/plain": [
       "<Figure size 432x288 with 1 Axes>"
      ]
     },
     "metadata": {
      "needs_background": "light"
     },
     "output_type": "display_data"
    }
   ],
   "source": [
    "fig = plot_metric_against_latitude(2, city_weather, \"Humidity\", \"Humidity (%)\", \"Humidity\")"
   ]
  },
  {
   "cell_type": "code",
   "execution_count": 201,
   "metadata": {},
   "outputs": [],
   "source": [
    "plt.close(fig)"
   ]
  },
  {
   "cell_type": "markdown",
   "metadata": {},
   "source": [
    "#### Latitude vs. Cloudiness Plot"
   ]
  },
  {
   "cell_type": "code",
   "execution_count": 202,
   "metadata": {},
   "outputs": [
    {
     "data": {
      "image/png": "[encoded data removed]",
      "text/plain": [
       "<Figure size 432x288 with 1 Axes>"
      ]
     },
     "metadata": {
      "needs_background": "light"
     },
     "output_type": "display_data"
    }
   ],
   "source": [
    "fig = plot_metric_against_latitude(3, city_weather, \"Cloudiness\", \"Cloudiness (%)\", \"Cloudiness\")"
   ]
  },
  {
   "cell_type": "code",
   "execution_count": 203,
   "metadata": {},
   "outputs": [],
   "source": [
    "plt.close(fig)"
   ]
  },
  {
   "cell_type": "markdown",
   "metadata": {},
   "source": [
    "#### Latitude vs. Wind Speed Plot"
   ]
  },
  {
   "cell_type": "code",
   "execution_count": 204,
   "metadata": {},
   "outputs": [
    {
     "data": {
      "image/png": "[encoded data removed]",
      "text/plain": [
       "<Figure size 432x288 with 1 Axes>"
      ]
     },
     "metadata": {
      "needs_background": "light"
     },
     "output_type": "display_data"
    }
   ],
   "source": [
    "fig = plot_metric_against_latitude(4, city_weather, \"Wind_Speed\", \"Wind Speed (mph)\", \"Wind Speed\")"
   ]
  },
  {
   "cell_type": "code",
   "execution_count": 205,
   "metadata": {},
   "outputs": [],
   "source": [
    "plt.close(fig)"
   ]
  },
  {
   "cell_type": "markdown",
   "metadata": {},
   "source": [
    "## Linear Regression"
   ]
  },
  {
   "cell_type": "code",
   "execution_count": null,
   "metadata": {},
   "outputs": [],
   "source": [
    "# OPTIONAL: Create a function to create Linear Regression plots\n"
   ]
  },
  {
   "cell_type": "code",
   "execution_count": null,
   "metadata": {},
   "outputs": [],
   "source": [
    "# Create Northern and Southern Hemisphere DataFrames\n"
   ]
  },
  {
   "cell_type": "markdown",
   "metadata": {},
   "source": [
    "####  Northern Hemisphere - Max Temp vs. Latitude Linear Regression"
   ]
  },
  {
   "cell_type": "code",
   "execution_count": null,
   "metadata": {},
   "outputs": [],
   "source": []
  },
  {
   "cell_type": "markdown",
   "metadata": {},
   "source": [
    "####  Southern Hemisphere - Max Temp vs. Latitude Linear Regression"
   ]
  },
  {
   "cell_type": "code",
   "execution_count": null,
   "metadata": {},
   "outputs": [],
   "source": []
  },
  {
   "cell_type": "markdown",
   "metadata": {},
   "source": [
    "####  Northern Hemisphere - Humidity (%) vs. Latitude Linear Regression"
   ]
  },
  {
   "cell_type": "code",
   "execution_count": null,
   "metadata": {},
   "outputs": [],
   "source": []
  },
  {
   "cell_type": "markdown",
   "metadata": {},
   "source": [
    "####  Southern Hemisphere - Humidity (%) vs. Latitude Linear Regression"
   ]
  },
  {
   "cell_type": "code",
   "execution_count": null,
   "metadata": {},
   "outputs": [],
   "source": []
  },
  {
   "cell_type": "markdown",
   "metadata": {},
   "source": [
    "####  Northern Hemisphere - Cloudiness (%) vs. Latitude Linear Regression"
   ]
  },
  {
   "cell_type": "code",
   "execution_count": null,
   "metadata": {},
   "outputs": [],
   "source": []
  },
  {
   "cell_type": "markdown",
   "metadata": {},
   "source": [
    "####  Southern Hemisphere - Cloudiness (%) vs. Latitude Linear Regression"
   ]
  },
  {
   "cell_type": "code",
   "execution_count": null,
   "metadata": {},
   "outputs": [],
   "source": []
  },
  {
   "cell_type": "markdown",
   "metadata": {},
   "source": [
    "####  Northern Hemisphere - Wind Speed (mph) vs. Latitude Linear Regression"
   ]
  },
  {
   "cell_type": "code",
   "execution_count": null,
   "metadata": {},
   "outputs": [],
   "source": []
  },
  {
   "cell_type": "markdown",
   "metadata": {},
   "source": [
    "####  Southern Hemisphere - Wind Speed (mph) vs. Latitude Linear Regression"
   ]
  },
  {
   "cell_type": "code",
   "execution_count": null,
   "metadata": {},
   "outputs": [],
   "source": []
  },
  {
   "cell_type": "code",
   "execution_count": null,
   "metadata": {},
   "outputs": [],
   "source": []
  }
 ],
 "metadata": {
  "anaconda-cloud": {},
  "kernel_info": {
   "name": "python3"
  },
  "kernelspec": {
   "display_name": "Python 3",
   "language": "python",
   "name": "python3"
  },
  "language_info": {
   "codemirror_mode": {
    "name": "ipython",
    "version": 3
   },
   "file_extension": ".py",
   "mimetype": "text/x-python",
   "name": "python",
   "nbconvert_exporter": "python",
   "pygments_lexer": "ipython3",
   "version": "3.7.6"
  },
  "latex_envs": {
   "LaTeX_envs_menu_present": true,
   "autoclose": false,
   "autocomplete": true,
   "bibliofile": "biblio.bib",
   "cite_by": "apalike",
   "current_citInitial": 1,
   "eqLabelWithNumbers": true,
   "eqNumInitial": 1,
   "hotkeys": {
    "equation": "Ctrl-E",
    "itemize": "Ctrl-I"
   },
   "labels_anchors": false,
   "latex_user_defs": false,
   "report_style_numbering": false,
   "user_envs_cfg": false
  },
  "nteract": {
   "version": "0.12.3"
  }
 },
 "nbformat": 4,
 "nbformat_minor": 2
}
