{
 "cells": [
  {
   "cell_type": "markdown",
   "metadata": {},
   "source": [
    "# VacationPy\n",
    "----\n",
    "\n",
    "In this notebook, we will use a table of weather data to show current humidity, find some ideal vacation spots, and a nearby hotel (money is no object):\n",
    "* A pleasant temperature, between 70 and 80 degrees Farenheit\n",
    "* Low winds, less than 10 mph\n",
    "* An azure sky on a cloudless day"
   ]
  },
  {
   "cell_type": "markdown",
   "metadata": {},
   "source": [
    "### Import libraries and API keys"
   ]
  },
  {
   "cell_type": "code",
   "execution_count": 1,
   "metadata": {},
   "outputs": [],
   "source": [
    "# Dependencies and Setup\n",
    "import matplotlib.pyplot as plt\n",
    "import pandas as pd\n",
    "import requests\n",
    "import gmaps\n",
    "\n",
    "# Import API key\n",
    "from api_keys import g_key"
   ]
  },
  {
   "cell_type": "markdown",
   "metadata": {},
   "source": [
    "### Load the weather data into a DataFrame"
   ]
  },
  {
   "cell_type": "code",
   "execution_count": 2,
   "metadata": {},
   "outputs": [],
   "source": [
    "city_weather = pd.read_csv(\"../WeatherPy/output_data/cities.csv\")"
   ]
  },
  {
   "cell_type": "markdown",
   "metadata": {},
   "source": [
    "### Humidity Heatmap\n",
    "* Configure gmaps.\n",
    "* Use the Lat and Lng as locations and Humidity as the weight.\n",
    "* Add Heatmap layer to map."
   ]
  },
  {
   "cell_type": "code",
   "execution_count": 3,
   "metadata": {},
   "outputs": [],
   "source": [
    "# Configure gmaps\n",
    "gmaps.configure(api_key=g_key)\n",
    "\n",
    "# Customize the size of the figure\n",
    "figure_layout = {\n",
    "    'width': '1200px',\n",
    "    'height': '900px',\n",
    "    'border': '1px solid black',\n",
    "    'padding': '1px',\n",
    "    'margin': '0 auto 0 auto'\n",
    "}\n",
    "\n",
    "# Create the fiture\n",
    "fig = gmaps.figure(layout=figure_layout)\n",
    "\n",
    "# Create heat layer\n",
    "heat_layer = gmaps.heatmap_layer(city_weather[[\"Lat\", \"Lng\"]], weights=city_weather[\"Humidity\"], \n",
    "                                 dissipating=False, max_intensity=100,\n",
    "                                 point_radius=1)\n",
    "\n",
    "# Add layer\n",
    "fig.add_layer(heat_layer)"
   ]
  },
  {
   "cell_type": "markdown",
   "metadata": {},
   "source": [
    "### Create a DataFrame of tempting vacation cities, that fit the weather criteria"
   ]
  },
  {
   "cell_type": "code",
   "execution_count": 4,
   "metadata": {},
   "outputs": [],
   "source": [
    "# Filter and Copy the DataFrame\n",
    "vacation_cities = city_weather[\n",
    "    (city_weather[\"Max_Temp\"]>70.0) \\\n",
    "    & (city_weather[\"Max_Temp\"]<80.0) \\\n",
    "    & (city_weather[\"Wind_Speed\"]<10.0) \\\n",
    "    & (city_weather[\"Cloudiness\"]==0)].copy()"
   ]
  },
  {
   "cell_type": "markdown",
   "metadata": {},
   "source": [
    "### Using Google Places API to find the first hotel for each city located within 5000 meters of your coordinates.\n",
    "* The nearbysearch API function did not allow me to set a radius of 5000 meters AND rank by distance.\n",
    "* I chose to use the findplacefromtext API function, wherein I could request \"closest\" (imply a ranking) AND a search radius."
   ]
  },
  {
   "cell_type": "code",
   "execution_count": 5,
   "metadata": {},
   "outputs": [],
   "source": [
    "# Initialize an empty list of nearby hotels, and the base URL for the Google Places API\n",
    "hotel_name_list = list()\n",
    "base_url = \"https://maps.googleapis.com/maps/api/place/findplacefromtext/json\"\n",
    "\n",
    "# Loop thru the vacation cities, and find the closest lodging\n",
    "for index, row in vacation_cities.iterrows():\n",
    "    params = {\n",
    "        \"key\" : g_key,\n",
    "        \"input\" : \"closest lodging\",\n",
    "        \"inputtype\" : \"textquery\",\n",
    "        \"language\" : \"en\",\n",
    "        \"fields\" : \"formatted_address,name\",\n",
    "        \"locationbias\" : f\"circle:5000@{row['Lat']},{row['Lng']}\"\n",
    "    }\n",
    "    json = requests.get(base_url, params=params).json()\n",
    "    # When the API fails to find a hotel that suits the parameterized criteria, it simply returns a hotel near me in Texas.\n",
    "    if \"TX\" in json['candidates'][0]['formatted_address']:\n",
    "        hotel_name = \"No hotel within 5km\"\n",
    "    else:\n",
    "        hotel_name = json['candidates'][0]['name']\n",
    "    hotel_name_list.append(hotel_name)\n",
    "    \n",
    "# Merge the list of hotel names into the DataFrame\n",
    "vacation_cities['Hotel'] = hotel_name_list"
   ]
  },
  {
   "cell_type": "markdown",
   "metadata": {},
   "source": [
    "### Create Markers with Information Windows for Vacation Cities and Nearby Hotels"
   ]
  },
  {
   "cell_type": "code",
   "execution_count": 6,
   "metadata": {},
   "outputs": [],
   "source": [
    "# Use this template for the information windows\n",
    "info_box_template = \"\"\"\n",
    "<dl>\n",
    "<dt>Nearby Hotel</dt><dd>{Hotel}</dd>\n",
    "<dt>City</dt><dd>{City}</dd>\n",
    "<dt>Country</dt><dd>{Country}</dd>\n",
    "</dl>\n",
    "\"\"\"\n",
    "\n",
    "# For clarity, initialize lists of (1) information window content and (2) locations\n",
    "hotel_info = [info_box_template.format(**row) for index, row in vacation_cities[[\"Hotel\",\"City\",\"Country\"]].iterrows()]\n",
    "locations = vacation_cities[[\"Lat\", \"Lng\"]]"
   ]
  },
  {
   "cell_type": "markdown",
   "metadata": {},
   "source": [
    "### Display the Map\n",
    "* Humidity from the weather table is indicated by a heat map.\n",
    "* Ideal vacation sites are marked."
   ]
  },
  {
   "cell_type": "code",
   "execution_count": 7,
   "metadata": {},
   "outputs": [
    {
     "data": {
      "application/vnd.jupyter.widget-view+json": {
       "model_id": "fedf54eeb34d42cead064c8bcacca524",
       "version_major": 2,
       "version_minor": 0
      },
      "text/plain": [
       "Figure(layout=FigureLayout(border='1px solid black', height='900px', margin='0 auto 0 auto', padding='1px', wi…"
      ]
     },
     "metadata": {},
     "output_type": "display_data"
    }
   ],
   "source": [
    "# Assign the marker layer to a variable\n",
    "markers = gmaps.marker_layer(locations, info_box_content=hotel_info)\n",
    "\n",
    "# Add the layer to the map\n",
    "fig.add_layer(markers)\n",
    "\n",
    "# Display the map\n",
    "fig"
   ]
  }
 ],
 "metadata": {
  "kernelspec": {
   "display_name": "Python 3",
   "language": "python",
   "name": "python3"
  },
  "language_info": {
   "codemirror_mode": {
    "name": "ipython",
    "version": 3
   },
   "file_extension": ".py",
   "mimetype": "text/x-python",
   "name": "python",
   "nbconvert_exporter": "python",
   "pygments_lexer": "ipython3",
   "version": "3.7.6"
  },
  "latex_envs": {
   "LaTeX_envs_menu_present": true,
   "autoclose": false,
   "autocomplete": true,
   "bibliofile": "biblio.bib",
   "cite_by": "apalike",
   "current_citInitial": 1,
   "eqLabelWithNumbers": true,
   "eqNumInitial": 1,
   "hotkeys": {
    "equation": "Ctrl-E",
    "itemize": "Ctrl-I"
   },
   "labels_anchors": false,
   "latex_user_defs": false,
   "report_style_numbering": false,
   "user_envs_cfg": false
  }
 },
 "nbformat": 4,
 "nbformat_minor": 2
}
